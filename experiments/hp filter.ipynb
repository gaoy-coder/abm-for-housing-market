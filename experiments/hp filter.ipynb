{
 "cells": [
  {
   "cell_type": "code",
   "execution_count": 1,
   "id": "647881e7",
   "metadata": {},
   "outputs": [],
   "source": [
    "import numpy as np\n",
    "import zipfile as zp\n",
    "import matplotlib.pyplot as plt\n",
    "import statsmodels.api as sm\n",
    "import pandas as pd\n",
    "\n",
    "data = sm.datasets.macrodata.load_pandas().data\n"
   ]
  },
  {
   "cell_type": "code",
   "execution_count": 2,
   "id": "d88fb7cd",
   "metadata": {},
   "outputs": [],
   "source": [
    "data.set_index(pd.period_range('1959Q1', '2009Q3', freq='Q'), inplace = True)"
   ]
  },
  {
   "cell_type": "code",
   "execution_count": 3,
   "id": "ca9556b2",
   "metadata": {},
   "outputs": [
    {
     "data": {
      "text/plain": [
       "Index(['year', 'quarter', 'realgdp', 'realcons', 'realinv', 'realgovt',\n",
       "       'realdpi', 'cpi', 'm1', 'tbilrate', 'unemp', 'pop', 'infl', 'realint'],\n",
       "      dtype='object')"
      ]
     },
     "execution_count": 3,
     "metadata": {},
     "output_type": "execute_result"
    }
   ],
   "source": [
    "data.columns"
   ]
  },
  {
   "cell_type": "code",
   "execution_count": 4,
   "id": "d8fbe6ba",
   "metadata": {},
   "outputs": [
    {
     "name": "stdout",
     "output_type": "stream",
     "text": [
      "::\n",
      "    Number of Observations - 203\n",
      "\n",
      "    Number of Variables - 14\n",
      "\n",
      "    Variable name definitions::\n",
      "\n",
      "        year      - 1959q1 - 2009q3\n",
      "        quarter   - 1-4\n",
      "        realgdp   - Real gross domestic product (Bil. of chained 2005 US$,\n",
      "                    seasonally adjusted annual rate)\n",
      "        realcons  - Real personal consumption expenditures (Bil. of chained\n",
      "                    2005 US$, seasonally adjusted annual rate)\n",
      "        realinv   - Real gross private domestic investment (Bil. of chained\n",
      "                    2005 US$, seasonally adjusted annual rate)\n",
      "        realgovt  - Real federal consumption expenditures & gross investment\n",
      "                    (Bil. of chained 2005 US$, seasonally adjusted annual rate)\n",
      "        realdpi   - Real private disposable income (Bil. of chained 2005\n",
      "                    US$, seasonally adjusted annual rate)\n",
      "        cpi       - End of the quarter consumer price index for all urban\n",
      "                    consumers: all items (1982-84 = 100, seasonally adjusted).\n",
      "        m1        - End of the quarter M1 nominal money stock (Seasonally\n",
      "                    adjusted)\n",
      "        tbilrate  - Quarterly monthly average of the monthly 3-month\n",
      "                    treasury bill: secondary market rate\n",
      "        unemp     - Seasonally adjusted unemployment rate (%)\n",
      "        pop       - End of the quarter total population: all ages incl. armed\n",
      "                    forces over seas\n",
      "        infl      - Inflation rate (ln(cpi_{t}/cpi_{t-1}) * 400)\n",
      "        realint   - Real interest rate (tbilrate - infl)\n",
      "\n"
     ]
    }
   ],
   "source": [
    "print(sm.datasets.macrodata.NOTE)"
   ]
  },
  {
   "cell_type": "code",
   "execution_count": 5,
   "id": "a794bc3c",
   "metadata": {},
   "outputs": [
    {
     "data": {
      "text/plain": [
       "<AxesSubplot:>"
      ]
     },
     "execution_count": 5,
     "metadata": {},
     "output_type": "execute_result"
    },
    {
     "data": {
      "image/png": "[encoded data removed]",
      "text/plain": [
       "<Figure size 432x288 with 1 Axes>"
      ]
     },
     "metadata": {
      "needs_background": "light"
     },
     "output_type": "display_data"
    }
   ],
   "source": [
    "fig, ax = plt.subplots()\n",
    "data['realgdp'][\"2000-03-31\":].plot(ax=ax,fontsize=12)"
   ]
  },
  {
   "cell_type": "code",
   "execution_count": 6,
   "id": "00d22112",
   "metadata": {},
   "outputs": [
    {
     "name": "stderr",
     "output_type": "stream",
     "text": [
      "/var/folders/wj/360bbnt54ns2j1m7zq0gkn3c0000gn/T/ipykernel_15061/3026366470.py:4: SettingWithCopyWarning: \n",
      "A value is trying to be set on a copy of a slice from a DataFrame.\n",
      "Try using .loc[row_indexer,col_indexer] = value instead\n",
      "\n",
      "See the caveats in the documentation: https://pandas.pydata.org/pandas-docs/stable/user_guide/indexing.html#returning-a-view-versus-a-copy\n",
      "  gdp_segr['cycle']= gdp_cycle\n",
      "/var/folders/wj/360bbnt54ns2j1m7zq0gkn3c0000gn/T/ipykernel_15061/3026366470.py:5: SettingWithCopyWarning: \n",
      "A value is trying to be set on a copy of a slice from a DataFrame.\n",
      "Try using .loc[row_indexer,col_indexer] = value instead\n",
      "\n",
      "See the caveats in the documentation: https://pandas.pydata.org/pandas-docs/stable/user_guide/indexing.html#returning-a-view-versus-a-copy\n",
      "  gdp_segr['trend'] = gdp_trend\n"
     ]
    },
    {
     "data": {
      "text/html": [
       "<div>\n",
       "<style scoped>\n",
       "    .dataframe tbody tr th:only-of-type {\n",
       "        vertical-align: middle;\n",
       "    }\n",
       "\n",
       "    .dataframe tbody tr th {\n",
       "        vertical-align: top;\n",
       "    }\n",
       "\n",
       "    .dataframe thead th {\n",
       "        text-align: right;\n",
       "    }\n",
       "</style>\n",
       "<table border=\"1\" class=\"dataframe\">\n",
       "  <thead>\n",
       "    <tr style=\"text-align: right;\">\n",
       "      <th></th>\n",
       "      <th>realgdp</th>\n",
       "      <th>cycle</th>\n",
       "      <th>trend</th>\n",
       "    </tr>\n",
       "  </thead>\n",
       "  <tbody>\n",
       "    <tr>\n",
       "      <th>1959Q1</th>\n",
       "      <td>2710.349</td>\n",
       "      <td>39.511915</td>\n",
       "      <td>2670.837085</td>\n",
       "    </tr>\n",
       "    <tr>\n",
       "      <th>1959Q2</th>\n",
       "      <td>2778.801</td>\n",
       "      <td>80.088532</td>\n",
       "      <td>2698.712468</td>\n",
       "    </tr>\n",
       "    <tr>\n",
       "      <th>1959Q3</th>\n",
       "      <td>2775.488</td>\n",
       "      <td>48.875455</td>\n",
       "      <td>2726.612545</td>\n",
       "    </tr>\n",
       "    <tr>\n",
       "      <th>1959Q4</th>\n",
       "      <td>2785.204</td>\n",
       "      <td>30.591933</td>\n",
       "      <td>2754.612067</td>\n",
       "    </tr>\n",
       "    <tr>\n",
       "      <th>1960Q1</th>\n",
       "      <td>2847.699</td>\n",
       "      <td>64.882667</td>\n",
       "      <td>2782.816333</td>\n",
       "    </tr>\n",
       "    <tr>\n",
       "      <th>...</th>\n",
       "      <td>...</td>\n",
       "      <td>...</td>\n",
       "      <td>...</td>\n",
       "    </tr>\n",
       "    <tr>\n",
       "      <th>2008Q3</th>\n",
       "      <td>13324.600</td>\n",
       "      <td>102.018455</td>\n",
       "      <td>13222.581545</td>\n",
       "    </tr>\n",
       "    <tr>\n",
       "      <th>2008Q4</th>\n",
       "      <td>13141.920</td>\n",
       "      <td>-107.269472</td>\n",
       "      <td>13249.189472</td>\n",
       "    </tr>\n",
       "    <tr>\n",
       "      <th>2009Q1</th>\n",
       "      <td>12925.410</td>\n",
       "      <td>-349.047706</td>\n",
       "      <td>13274.457706</td>\n",
       "    </tr>\n",
       "    <tr>\n",
       "      <th>2009Q2</th>\n",
       "      <td>12901.504</td>\n",
       "      <td>-397.557073</td>\n",
       "      <td>13299.061073</td>\n",
       "    </tr>\n",
       "    <tr>\n",
       "      <th>2009Q3</th>\n",
       "      <td>12990.341</td>\n",
       "      <td>-333.115243</td>\n",
       "      <td>13323.456243</td>\n",
       "    </tr>\n",
       "  </tbody>\n",
       "</table>\n",
       "<p>203 rows × 3 columns</p>\n",
       "</div>"
      ],
      "text/plain": [
       "          realgdp       cycle         trend\n",
       "1959Q1   2710.349   39.511915   2670.837085\n",
       "1959Q2   2778.801   80.088532   2698.712468\n",
       "1959Q3   2775.488   48.875455   2726.612545\n",
       "1959Q4   2785.204   30.591933   2754.612067\n",
       "1960Q1   2847.699   64.882667   2782.816333\n",
       "...           ...         ...           ...\n",
       "2008Q3  13324.600  102.018455  13222.581545\n",
       "2008Q4  13141.920 -107.269472  13249.189472\n",
       "2009Q1  12925.410 -349.047706  13274.457706\n",
       "2009Q2  12901.504 -397.557073  13299.061073\n",
       "2009Q3  12990.341 -333.115243  13323.456243\n",
       "\n",
       "[203 rows x 3 columns]"
      ]
     },
     "execution_count": 6,
     "metadata": {},
     "output_type": "execute_result"
    }
   ],
   "source": [
    "from statsmodels.tsa.filters.hp_filter import hpfilter\n",
    "gdp_cycle,gdp_trend = hpfilter(data['realgdp'], lamb=1600)\n",
    "gdp_segr = data[['realgdp']]\n",
    "gdp_segr['cycle']= gdp_cycle\n",
    "gdp_segr['trend'] = gdp_trend\n",
    "\n",
    "gdp_segr"
   ]
  },
  {
   "cell_type": "code",
   "execution_count": 13,
   "id": "42901c94",
   "metadata": {},
   "outputs": [
    {
     "data": {
      "text/plain": [
       "1959Q1     39.511915\n",
       "1959Q2     80.088532\n",
       "1959Q3     48.875455\n",
       "1959Q4     30.591933\n",
       "1960Q1     64.882667\n",
       "             ...    \n",
       "2008Q3    102.018455\n",
       "2008Q4   -107.269472\n",
       "2009Q1   -349.047706\n",
       "2009Q2   -397.557073\n",
       "2009Q3   -333.115243\n",
       "Freq: Q-DEC, Name: realgdp_cycle, Length: 203, dtype: float64"
      ]
     },
     "execution_count": 13,
     "metadata": {},
     "output_type": "execute_result"
    }
   ],
   "source": [
    "gdp_cycle"
   ]
  },
  {
   "cell_type": "code",
   "execution_count": 14,
   "id": "ed9562d5",
   "metadata": {},
   "outputs": [
    {
     "data": {
      "text/plain": [
       "1959Q1     2670.837085\n",
       "1959Q2     2698.712468\n",
       "1959Q3     2726.612545\n",
       "1959Q4     2754.612067\n",
       "1960Q1     2782.816333\n",
       "              ...     \n",
       "2008Q3    13222.581545\n",
       "2008Q4    13249.189472\n",
       "2009Q1    13274.457706\n",
       "2009Q2    13299.061073\n",
       "2009Q3    13323.456243\n",
       "Freq: Q-DEC, Name: realgdp_trend, Length: 203, dtype: float64"
      ]
     },
     "execution_count": 14,
     "metadata": {},
     "output_type": "execute_result"
    }
   ],
   "source": [
    "gdp_trend"
   ]
  },
  {
   "cell_type": "code",
   "execution_count": 15,
   "id": "2ba317bb",
   "metadata": {},
   "outputs": [
    {
     "data": {
      "text/html": [
       "<div>\n",
       "<style scoped>\n",
       "    .dataframe tbody tr th:only-of-type {\n",
       "        vertical-align: middle;\n",
       "    }\n",
       "\n",
       "    .dataframe tbody tr th {\n",
       "        vertical-align: top;\n",
       "    }\n",
       "\n",
       "    .dataframe thead th {\n",
       "        text-align: right;\n",
       "    }\n",
       "</style>\n",
       "<table border=\"1\" class=\"dataframe\">\n",
       "  <thead>\n",
       "    <tr style=\"text-align: right;\">\n",
       "      <th></th>\n",
       "      <th>realgdp</th>\n",
       "    </tr>\n",
       "  </thead>\n",
       "  <tbody>\n",
       "    <tr>\n",
       "      <th>1959Q1</th>\n",
       "      <td>2710.349</td>\n",
       "    </tr>\n",
       "    <tr>\n",
       "      <th>1959Q2</th>\n",
       "      <td>2778.801</td>\n",
       "    </tr>\n",
       "    <tr>\n",
       "      <th>1959Q3</th>\n",
       "      <td>2775.488</td>\n",
       "    </tr>\n",
       "    <tr>\n",
       "      <th>1959Q4</th>\n",
       "      <td>2785.204</td>\n",
       "    </tr>\n",
       "    <tr>\n",
       "      <th>1960Q1</th>\n",
       "      <td>2847.699</td>\n",
       "    </tr>\n",
       "    <tr>\n",
       "      <th>...</th>\n",
       "      <td>...</td>\n",
       "    </tr>\n",
       "    <tr>\n",
       "      <th>2008Q3</th>\n",
       "      <td>13324.600</td>\n",
       "    </tr>\n",
       "    <tr>\n",
       "      <th>2008Q4</th>\n",
       "      <td>13141.920</td>\n",
       "    </tr>\n",
       "    <tr>\n",
       "      <th>2009Q1</th>\n",
       "      <td>12925.410</td>\n",
       "    </tr>\n",
       "    <tr>\n",
       "      <th>2009Q2</th>\n",
       "      <td>12901.504</td>\n",
       "    </tr>\n",
       "    <tr>\n",
       "      <th>2009Q3</th>\n",
       "      <td>12990.341</td>\n",
       "    </tr>\n",
       "  </tbody>\n",
       "</table>\n",
       "<p>203 rows × 1 columns</p>\n",
       "</div>"
      ],
      "text/plain": [
       "          realgdp\n",
       "1959Q1   2710.349\n",
       "1959Q2   2778.801\n",
       "1959Q3   2775.488\n",
       "1959Q4   2785.204\n",
       "1960Q1   2847.699\n",
       "...           ...\n",
       "2008Q3  13324.600\n",
       "2008Q4  13141.920\n",
       "2009Q1  12925.410\n",
       "2009Q2  12901.504\n",
       "2009Q3  12990.341\n",
       "\n",
       "[203 rows x 1 columns]"
      ]
     },
     "execution_count": 15,
     "metadata": {},
     "output_type": "execute_result"
    }
   ],
   "source": [
    "da = data[['realgdp']]\n",
    "da"
   ]
  },
  {
   "cell_type": "code",
   "execution_count": 20,
   "id": "f03e7d2a",
   "metadata": {},
   "outputs": [
    {
     "name": "stderr",
     "output_type": "stream",
     "text": [
      "/var/folders/wj/360bbnt54ns2j1m7zq0gkn3c0000gn/T/ipykernel_15061/2253749216.py:1: SettingWithCopyWarning: \n",
      "A value is trying to be set on a copy of a slice from a DataFrame.\n",
      "Try using .loc[row_indexer,col_indexer] = value instead\n",
      "\n",
      "See the caveats in the documentation: https://pandas.pydata.org/pandas-docs/stable/user_guide/indexing.html#returning-a-view-versus-a-copy\n",
      "  da.loc[:, 'cycle']= gdp_cycle\n"
     ]
    },
    {
     "data": {
      "text/html": [
       "<div>\n",
       "<style scoped>\n",
       "    .dataframe tbody tr th:only-of-type {\n",
       "        vertical-align: middle;\n",
       "    }\n",
       "\n",
       "    .dataframe tbody tr th {\n",
       "        vertical-align: top;\n",
       "    }\n",
       "\n",
       "    .dataframe thead th {\n",
       "        text-align: right;\n",
       "    }\n",
       "</style>\n",
       "<table border=\"1\" class=\"dataframe\">\n",
       "  <thead>\n",
       "    <tr style=\"text-align: right;\">\n",
       "      <th></th>\n",
       "      <th>realgdp</th>\n",
       "      <th>cycle</th>\n",
       "    </tr>\n",
       "  </thead>\n",
       "  <tbody>\n",
       "    <tr>\n",
       "      <th>1959Q1</th>\n",
       "      <td>2710.349</td>\n",
       "      <td>39.511915</td>\n",
       "    </tr>\n",
       "    <tr>\n",
       "      <th>1959Q2</th>\n",
       "      <td>2778.801</td>\n",
       "      <td>80.088532</td>\n",
       "    </tr>\n",
       "    <tr>\n",
       "      <th>1959Q3</th>\n",
       "      <td>2775.488</td>\n",
       "      <td>48.875455</td>\n",
       "    </tr>\n",
       "    <tr>\n",
       "      <th>1959Q4</th>\n",
       "      <td>2785.204</td>\n",
       "      <td>30.591933</td>\n",
       "    </tr>\n",
       "    <tr>\n",
       "      <th>1960Q1</th>\n",
       "      <td>2847.699</td>\n",
       "      <td>64.882667</td>\n",
       "    </tr>\n",
       "    <tr>\n",
       "      <th>...</th>\n",
       "      <td>...</td>\n",
       "      <td>...</td>\n",
       "    </tr>\n",
       "    <tr>\n",
       "      <th>2008Q3</th>\n",
       "      <td>13324.600</td>\n",
       "      <td>102.018455</td>\n",
       "    </tr>\n",
       "    <tr>\n",
       "      <th>2008Q4</th>\n",
       "      <td>13141.920</td>\n",
       "      <td>-107.269472</td>\n",
       "    </tr>\n",
       "    <tr>\n",
       "      <th>2009Q1</th>\n",
       "      <td>12925.410</td>\n",
       "      <td>-349.047706</td>\n",
       "    </tr>\n",
       "    <tr>\n",
       "      <th>2009Q2</th>\n",
       "      <td>12901.504</td>\n",
       "      <td>-397.557073</td>\n",
       "    </tr>\n",
       "    <tr>\n",
       "      <th>2009Q3</th>\n",
       "      <td>12990.341</td>\n",
       "      <td>-333.115243</td>\n",
       "    </tr>\n",
       "  </tbody>\n",
       "</table>\n",
       "<p>203 rows × 2 columns</p>\n",
       "</div>"
      ],
      "text/plain": [
       "          realgdp       cycle\n",
       "1959Q1   2710.349   39.511915\n",
       "1959Q2   2778.801   80.088532\n",
       "1959Q3   2775.488   48.875455\n",
       "1959Q4   2785.204   30.591933\n",
       "1960Q1   2847.699   64.882667\n",
       "...           ...         ...\n",
       "2008Q3  13324.600  102.018455\n",
       "2008Q4  13141.920 -107.269472\n",
       "2009Q1  12925.410 -349.047706\n",
       "2009Q2  12901.504 -397.557073\n",
       "2009Q3  12990.341 -333.115243\n",
       "\n",
       "[203 rows x 2 columns]"
      ]
     },
     "execution_count": 20,
     "metadata": {},
     "output_type": "execute_result"
    }
   ],
   "source": [
    "da.loc[:, 'cycle']= gdp_cycle\n",
    "da"
   ]
  },
  {
   "cell_type": "code",
   "execution_count": 23,
   "id": "4362583c",
   "metadata": {},
   "outputs": [
    {
     "name": "stderr",
     "output_type": "stream",
     "text": [
      "/var/folders/wj/360bbnt54ns2j1m7zq0gkn3c0000gn/T/ipykernel_15061/2212018553.py:1: SettingWithCopyWarning: \n",
      "A value is trying to be set on a copy of a slice from a DataFrame.\n",
      "Try using .loc[row_indexer,col_indexer] = value instead\n",
      "\n",
      "See the caveats in the documentation: https://pandas.pydata.org/pandas-docs/stable/user_guide/indexing.html#returning-a-view-versus-a-copy\n",
      "  da.loc[:,'gdp_trend']=gdp_trend\n"
     ]
    },
    {
     "data": {
      "text/html": [
       "<div>\n",
       "<style scoped>\n",
       "    .dataframe tbody tr th:only-of-type {\n",
       "        vertical-align: middle;\n",
       "    }\n",
       "\n",
       "    .dataframe tbody tr th {\n",
       "        vertical-align: top;\n",
       "    }\n",
       "\n",
       "    .dataframe thead th {\n",
       "        text-align: right;\n",
       "    }\n",
       "</style>\n",
       "<table border=\"1\" class=\"dataframe\">\n",
       "  <thead>\n",
       "    <tr style=\"text-align: right;\">\n",
       "      <th></th>\n",
       "      <th>realgdp</th>\n",
       "      <th>cycle</th>\n",
       "      <th>gdp_trend</th>\n",
       "    </tr>\n",
       "  </thead>\n",
       "  <tbody>\n",
       "    <tr>\n",
       "      <th>1959Q1</th>\n",
       "      <td>2710.349</td>\n",
       "      <td>39.511915</td>\n",
       "      <td>2670.837085</td>\n",
       "    </tr>\n",
       "    <tr>\n",
       "      <th>1959Q2</th>\n",
       "      <td>2778.801</td>\n",
       "      <td>80.088532</td>\n",
       "      <td>2698.712468</td>\n",
       "    </tr>\n",
       "    <tr>\n",
       "      <th>1959Q3</th>\n",
       "      <td>2775.488</td>\n",
       "      <td>48.875455</td>\n",
       "      <td>2726.612545</td>\n",
       "    </tr>\n",
       "    <tr>\n",
       "      <th>1959Q4</th>\n",
       "      <td>2785.204</td>\n",
       "      <td>30.591933</td>\n",
       "      <td>2754.612067</td>\n",
       "    </tr>\n",
       "    <tr>\n",
       "      <th>1960Q1</th>\n",
       "      <td>2847.699</td>\n",
       "      <td>64.882667</td>\n",
       "      <td>2782.816333</td>\n",
       "    </tr>\n",
       "    <tr>\n",
       "      <th>...</th>\n",
       "      <td>...</td>\n",
       "      <td>...</td>\n",
       "      <td>...</td>\n",
       "    </tr>\n",
       "    <tr>\n",
       "      <th>2008Q3</th>\n",
       "      <td>13324.600</td>\n",
       "      <td>102.018455</td>\n",
       "      <td>13222.581545</td>\n",
       "    </tr>\n",
       "    <tr>\n",
       "      <th>2008Q4</th>\n",
       "      <td>13141.920</td>\n",
       "      <td>-107.269472</td>\n",
       "      <td>13249.189472</td>\n",
       "    </tr>\n",
       "    <tr>\n",
       "      <th>2009Q1</th>\n",
       "      <td>12925.410</td>\n",
       "      <td>-349.047706</td>\n",
       "      <td>13274.457706</td>\n",
       "    </tr>\n",
       "    <tr>\n",
       "      <th>2009Q2</th>\n",
       "      <td>12901.504</td>\n",
       "      <td>-397.557073</td>\n",
       "      <td>13299.061073</td>\n",
       "    </tr>\n",
       "    <tr>\n",
       "      <th>2009Q3</th>\n",
       "      <td>12990.341</td>\n",
       "      <td>-333.115243</td>\n",
       "      <td>13323.456243</td>\n",
       "    </tr>\n",
       "  </tbody>\n",
       "</table>\n",
       "<p>203 rows × 3 columns</p>\n",
       "</div>"
      ],
      "text/plain": [
       "          realgdp       cycle     gdp_trend\n",
       "1959Q1   2710.349   39.511915   2670.837085\n",
       "1959Q2   2778.801   80.088532   2698.712468\n",
       "1959Q3   2775.488   48.875455   2726.612545\n",
       "1959Q4   2785.204   30.591933   2754.612067\n",
       "1960Q1   2847.699   64.882667   2782.816333\n",
       "...           ...         ...           ...\n",
       "2008Q3  13324.600  102.018455  13222.581545\n",
       "2008Q4  13141.920 -107.269472  13249.189472\n",
       "2009Q1  12925.410 -349.047706  13274.457706\n",
       "2009Q2  12901.504 -397.557073  13299.061073\n",
       "2009Q3  12990.341 -333.115243  13323.456243\n",
       "\n",
       "[203 rows x 3 columns]"
      ]
     },
     "execution_count": 23,
     "metadata": {},
     "output_type": "execute_result"
    }
   ],
   "source": [
    "da.loc[:,'gdp_trend']=gdp_trend\n",
    "da"
   ]
  },
  {
   "cell_type": "code",
   "execution_count": 7,
   "id": "347aaee9",
   "metadata": {},
   "outputs": [
    {
     "data": {
      "text/plain": [
       "<AxesSubplot:>"
      ]
     },
     "execution_count": 7,
     "metadata": {},
     "output_type": "execute_result"
    },
    {
     "data": {
      "image/png": "[encoded data removed]",
      "text/plain": [
       "<Figure size 432x288 with 1 Axes>"
      ]
     },
     "metadata": {
      "needs_background": "light"
     },
     "output_type": "display_data"
    }
   ],
   "source": [
    "gdp_trend.plot()"
   ]
  },
  {
   "cell_type": "code",
   "execution_count": null,
   "id": "7865594e",
   "metadata": {},
   "outputs": [],
   "source": []
  },
  {
   "cell_type": "code",
   "execution_count": 8,
   "id": "89091f36",
   "metadata": {},
   "outputs": [
    {
     "data": {
      "text/plain": [
       "<AxesSubplot:>"
      ]
     },
     "execution_count": 8,
     "metadata": {},
     "output_type": "execute_result"
    },
    {
     "data": {
      "image/png": "[encoded data removed]",
      "text/plain": [
       "<Figure size 432x288 with 1 Axes>"
      ]
     },
     "metadata": {
      "needs_background": "light"
     },
     "output_type": "display_data"
    }
   ],
   "source": [
    "gdp_cycle.plot()"
   ]
  },
  {
   "cell_type": "code",
   "execution_count": 11,
   "id": "aaff24f8",
   "metadata": {},
   "outputs": [
    {
     "data": {
      "text/plain": [
       "<AxesSubplot:>"
      ]
     },
     "execution_count": 11,
     "metadata": {},
     "output_type": "execute_result"
    },
    {
     "data": {
      "image/png": "[encoded data removed]",
      "text/plain": [
       "<Figure size 432x288 with 1 Axes>"
      ]
     },
     "metadata": {
      "needs_background": "light"
     },
     "output_type": "display_data"
    }
   ],
   "source": [
    "fig, ax = plt.subplots()\n",
    "\n",
    "gdp_segr[['realgdp', 'trend', 'cycle']][\"2000-03-31\":].plot(ax=ax,fontsize=12)"
   ]
  },
  {
   "cell_type": "code",
   "execution_count": 12,
   "id": "61194f61",
   "metadata": {},
   "outputs": [
    {
     "data": {
      "text/plain": [
       "<AxesSubplot:>"
      ]
     },
     "execution_count": 12,
     "metadata": {},
     "output_type": "execute_result"
    },
    {
     "data": {
      "image/png": "[encoded data removed]",
      "text/plain": [
       "<Figure size 432x288 with 1 Axes>"
      ]
     },
     "metadata": {
      "needs_background": "light"
     },
     "output_type": "display_data"
    }
   ],
   "source": [
    "fig, ax = plt.subplots()\n",
    "gdp_segr[['realgdp', 'trend']][\"2000-03-31\":].plot(ax=ax,fontsize=12)"
   ]
  },
  {
   "cell_type": "code",
   "execution_count": null,
   "id": "fef6a755",
   "metadata": {},
   "outputs": [],
   "source": []
  }
 ],
 "metadata": {
  "kernelspec": {
   "display_name": "Python 3 (ipykernel)",
   "language": "python",
   "name": "python3"
  },
  "language_info": {
   "codemirror_mode": {
    "name": "ipython",
    "version": 3
   },
   "file_extension": ".py",
   "mimetype": "text/x-python",
   "name": "python",
   "nbconvert_exporter": "python",
   "pygments_lexer": "ipython3",
   "version": "3.9.12"
  }
 },
 "nbformat": 4,
 "nbformat_minor": 5
}
