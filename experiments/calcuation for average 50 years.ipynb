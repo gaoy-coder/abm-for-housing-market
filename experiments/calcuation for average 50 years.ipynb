{
 "cells": [
  {
   "cell_type": "code",
   "execution_count": 1,
   "id": "dabff690",
   "metadata": {},
   "outputs": [
    {
     "data": {
      "text/html": [
       "<div>\n",
       "<style scoped>\n",
       "    .dataframe tbody tr th:only-of-type {\n",
       "        vertical-align: middle;\n",
       "    }\n",
       "\n",
       "    .dataframe tbody tr th {\n",
       "        vertical-align: top;\n",
       "    }\n",
       "\n",
       "    .dataframe thead th {\n",
       "        text-align: right;\n",
       "    }\n",
       "</style>\n",
       "<table border=\"1\" class=\"dataframe\">\n",
       "  <thead>\n",
       "    <tr style=\"text-align: right;\">\n",
       "      <th></th>\n",
       "      <th>index</th>\n",
       "      <th>Model time</th>\n",
       "      <th>nNonBTLHomeless</th>\n",
       "      <th>nBTLHomeless</th>\n",
       "      <th>nHomeless</th>\n",
       "      <th>nRenting</th>\n",
       "      <th>nNonOwner</th>\n",
       "      <th>nNonBTLOwnerOccupier</th>\n",
       "      <th>nBTLOwnerOccupier</th>\n",
       "      <th>nOwnerOccupier</th>\n",
       "      <th>...</th>\n",
       "      <th>nNewFTBMortgages</th>\n",
       "      <th>nNewFTBMortgagesToBTL</th>\n",
       "      <th>nNewHMMortgages</th>\n",
       "      <th>nNewBTLMortgages</th>\n",
       "      <th>newFTBCredit</th>\n",
       "      <th>newHMCredit</th>\n",
       "      <th>newBTLCredit</th>\n",
       "      <th>newTotalCredit</th>\n",
       "      <th>creditStock</th>\n",
       "      <th>interestRate</th>\n",
       "    </tr>\n",
       "  </thead>\n",
       "  <tbody>\n",
       "    <tr>\n",
       "      <th>0</th>\n",
       "      <td>3001</td>\n",
       "      <td>3001</td>\n",
       "      <td>1526</td>\n",
       "      <td>147</td>\n",
       "      <td>1673</td>\n",
       "      <td>2140</td>\n",
       "      <td>3813</td>\n",
       "      <td>5030</td>\n",
       "      <td>380</td>\n",
       "      <td>5410</td>\n",
       "      <td>...</td>\n",
       "      <td>3</td>\n",
       "      <td>3</td>\n",
       "      <td>1</td>\n",
       "      <td>2</td>\n",
       "      <td>511667.07</td>\n",
       "      <td>81950.04</td>\n",
       "      <td>152642.56</td>\n",
       "      <td>746259.67</td>\n",
       "      <td>2.928710e+08</td>\n",
       "      <td>0.032300</td>\n",
       "    </tr>\n",
       "    <tr>\n",
       "      <th>1</th>\n",
       "      <td>3002</td>\n",
       "      <td>3002</td>\n",
       "      <td>1536</td>\n",
       "      <td>144</td>\n",
       "      <td>1680</td>\n",
       "      <td>2141</td>\n",
       "      <td>3821</td>\n",
       "      <td>5019</td>\n",
       "      <td>383</td>\n",
       "      <td>5402</td>\n",
       "      <td>...</td>\n",
       "      <td>5</td>\n",
       "      <td>4</td>\n",
       "      <td>1</td>\n",
       "      <td>2</td>\n",
       "      <td>210613.30</td>\n",
       "      <td>41433.88</td>\n",
       "      <td>53267.29</td>\n",
       "      <td>305314.47</td>\n",
       "      <td>2.917289e+08</td>\n",
       "      <td>0.032832</td>\n",
       "    </tr>\n",
       "    <tr>\n",
       "      <th>2</th>\n",
       "      <td>3003</td>\n",
       "      <td>3003</td>\n",
       "      <td>1542</td>\n",
       "      <td>142</td>\n",
       "      <td>1684</td>\n",
       "      <td>2144</td>\n",
       "      <td>3828</td>\n",
       "      <td>5012</td>\n",
       "      <td>384</td>\n",
       "      <td>5396</td>\n",
       "      <td>...</td>\n",
       "      <td>3</td>\n",
       "      <td>3</td>\n",
       "      <td>0</td>\n",
       "      <td>3</td>\n",
       "      <td>278612.39</td>\n",
       "      <td>0.00</td>\n",
       "      <td>154812.19</td>\n",
       "      <td>433424.58</td>\n",
       "      <td>2.906836e+08</td>\n",
       "      <td>0.032246</td>\n",
       "    </tr>\n",
       "  </tbody>\n",
       "</table>\n",
       "<p>3 rows × 55 columns</p>\n",
       "</div>"
      ],
      "text/plain": [
       "   index  Model time  nNonBTLHomeless  nBTLHomeless  nHomeless  nRenting  \\\n",
       "0   3001        3001             1526           147       1673      2140   \n",
       "1   3002        3002             1536           144       1680      2141   \n",
       "2   3003        3003             1542           142       1684      2144   \n",
       "\n",
       "   nNonOwner  nNonBTLOwnerOccupier  nBTLOwnerOccupier  nOwnerOccupier  ...  \\\n",
       "0       3813                  5030                380            5410  ...   \n",
       "1       3821                  5019                383            5402  ...   \n",
       "2       3828                  5012                384            5396  ...   \n",
       "\n",
       "   nNewFTBMortgages  nNewFTBMortgagesToBTL  nNewHMMortgages  nNewBTLMortgages  \\\n",
       "0                 3                      3                1                 2   \n",
       "1                 5                      4                1                 2   \n",
       "2                 3                      3                0                 3   \n",
       "\n",
       "   newFTBCredit  newHMCredit  newBTLCredit  newTotalCredit   creditStock  \\\n",
       "0     511667.07     81950.04     152642.56       746259.67  2.928710e+08   \n",
       "1     210613.30     41433.88      53267.29       305314.47  2.917289e+08   \n",
       "2     278612.39         0.00     154812.19       433424.58  2.906836e+08   \n",
       "\n",
       "   interestRate  \n",
       "0      0.032300  \n",
       "1      0.032832  \n",
       "2      0.032246  \n",
       "\n",
       "[3 rows x 55 columns]"
      ]
     },
     "execution_count": 1,
     "metadata": {},
     "output_type": "execute_result"
    }
   ],
   "source": [
    "import numpy as np\n",
    "import zipfile as zp\n",
    "import matplotlib.pyplot as plt\n",
    "import statsmodels.api as sm\n",
    "import pandas as pd\n",
    "\n",
    "# average price of the last 50 years\n",
    "output = pd.read_csv('./2023-08-12T22-19-20.986698Z/Output-run1.csv',sep=';',skipinitialspace=True)\n",
    "\n",
    "_50_years = output[3001:].reset_index()\n",
    "\n",
    "_50_years.head(3)"
   ]
  },
  {
   "cell_type": "code",
   "execution_count": 4,
   "id": "dbbb933a",
   "metadata": {},
   "outputs": [
    {
     "data": {
      "text/plain": [
       "172934.81925"
      ]
     },
     "execution_count": 4,
     "metadata": {},
     "output_type": "execute_result"
    }
   ],
   "source": [
    "average_sale_price = _50_years['Sale AvSalePrice'].mean()\n",
    "average_sale_price"
   ]
  },
  {
   "cell_type": "code",
   "execution_count": 6,
   "id": "5b7ce87b",
   "metadata": {},
   "outputs": [
    {
     "data": {
      "text/plain": [
       "38.086666666666666"
      ]
     },
     "execution_count": 6,
     "metadata": {},
     "output_type": "execute_result"
    }
   ],
   "source": [
    "# Sale nSales\n",
    "average_sale_nums = _50_years['Sale nSales'].mean()\n",
    "average_sale_nums"
   ]
  },
  {
   "cell_type": "code",
   "execution_count": 7,
   "id": "02793787",
   "metadata": {},
   "outputs": [
    {
     "data": {
      "text/plain": [
       "130.18333333333334"
      ]
     },
     "execution_count": 7,
     "metadata": {},
     "output_type": "execute_result"
    }
   ],
   "source": [
    "# 38 * 2700 recover to 1:1"
   ]
  },
  {
   "cell_type": "code",
   "execution_count": 13,
   "id": "ca13f8fd",
   "metadata": {},
   "outputs": [
    {
     "data": {
      "text/plain": [
       "12802.0"
      ]
     },
     "execution_count": 13,
     "metadata": {},
     "output_type": "execute_result"
    }
   ],
   "source": [
    "# calculate sum mortgages every month\n",
    "mortgages = 0\n",
    "for index,row in _50_years.iterrows():\n",
    "    mortgage_monthly = row['nNewFTBMortgages'] + row['nNewFTBMortgagesToBTL'] + row['nNewHMMortgages'] + row['nNewBTLMortgages']\n",
    "    mortgages += mortgage_monthly\n",
    "    \n",
    "mortgages"
   ]
  },
  {
   "cell_type": "code",
   "execution_count": 14,
   "id": "17e88996",
   "metadata": {},
   "outputs": [
    {
     "data": {
      "text/plain": [
       "21.336666666666666"
      ]
     },
     "execution_count": 14,
     "metadata": {},
     "output_type": "execute_result"
    }
   ],
   "source": [
    "mean_ = mortgages/600\n",
    "mean_"
   ]
  },
  {
   "cell_type": "code",
   "execution_count": null,
   "id": "284797d9",
   "metadata": {},
   "outputs": [],
   "source": [
    "# 21.3 * 2700 = 57510 recover to 1:1"
   ]
  },
  {
   "cell_type": "code",
   "execution_count": 18,
   "id": "434b83e9",
   "metadata": {},
   "outputs": [
    {
     "data": {
      "text/html": [
       "<div>\n",
       "<style scoped>\n",
       "    .dataframe tbody tr th:only-of-type {\n",
       "        vertical-align: middle;\n",
       "    }\n",
       "\n",
       "    .dataframe tbody tr th {\n",
       "        vertical-align: top;\n",
       "    }\n",
       "\n",
       "    .dataframe thead th {\n",
       "        text-align: right;\n",
       "    }\n",
       "</style>\n",
       "<table border=\"1\" class=\"dataframe\">\n",
       "  <thead>\n",
       "    <tr style=\"text-align: right;\">\n",
       "      <th></th>\n",
       "      <th>creditGrowth</th>\n",
       "      <th>housePriceGrowth</th>\n",
       "    </tr>\n",
       "  </thead>\n",
       "  <tbody>\n",
       "    <tr>\n",
       "      <th>0</th>\n",
       "      <td>-4.0743</td>\n",
       "      <td>-6.5742</td>\n",
       "    </tr>\n",
       "    <tr>\n",
       "      <th>1</th>\n",
       "      <td>-3.9772</td>\n",
       "      <td>-7.5724</td>\n",
       "    </tr>\n",
       "    <tr>\n",
       "      <th>2</th>\n",
       "      <td>-4.0315</td>\n",
       "      <td>-9.2576</td>\n",
       "    </tr>\n",
       "    <tr>\n",
       "      <th>3</th>\n",
       "      <td>-3.9668</td>\n",
       "      <td>-4.1803</td>\n",
       "    </tr>\n",
       "    <tr>\n",
       "      <th>4</th>\n",
       "      <td>-4.4558</td>\n",
       "      <td>-1.1507</td>\n",
       "    </tr>\n",
       "    <tr>\n",
       "      <th>...</th>\n",
       "      <td>...</td>\n",
       "      <td>...</td>\n",
       "    </tr>\n",
       "    <tr>\n",
       "      <th>596</th>\n",
       "      <td>-4.2151</td>\n",
       "      <td>-1.7603</td>\n",
       "    </tr>\n",
       "    <tr>\n",
       "      <th>597</th>\n",
       "      <td>-4.1598</td>\n",
       "      <td>-2.373</td>\n",
       "    </tr>\n",
       "    <tr>\n",
       "      <th>598</th>\n",
       "      <td>-4.4309</td>\n",
       "      <td>-2.0133</td>\n",
       "    </tr>\n",
       "    <tr>\n",
       "      <th>599</th>\n",
       "      <td>-4.5603</td>\n",
       "      <td>-5.6745</td>\n",
       "    </tr>\n",
       "    <tr>\n",
       "      <th>600</th>\n",
       "      <td>-4.438</td>\n",
       "      <td>-8.2282</td>\n",
       "    </tr>\n",
       "  </tbody>\n",
       "</table>\n",
       "<p>601 rows × 2 columns</p>\n",
       "</div>"
      ],
      "text/plain": [
       "    creditGrowth housePriceGrowth\n",
       "0        -4.0743          -6.5742\n",
       "1        -3.9772          -7.5724\n",
       "2        -4.0315          -9.2576\n",
       "3        -3.9668          -4.1803\n",
       "4        -4.4558          -1.1507\n",
       "..           ...              ...\n",
       "596      -4.2151          -1.7603\n",
       "597      -4.1598           -2.373\n",
       "598      -4.4309          -2.0133\n",
       "599      -4.5603          -5.6745\n",
       "600       -4.438          -8.2282\n",
       "\n",
       "[601 rows x 2 columns]"
      ]
     },
     "execution_count": 18,
     "metadata": {},
     "output_type": "execute_result"
    }
   ],
   "source": [
    "import csv\n",
    "# credit growth & house price growth\n",
    "# coreIndicator-creditGrowth\n",
    "# credits = pd.read_csv('./2023-08-12T22-19-20.986698Z/coreIndicator-creditGrowth.csv',sep=';',skipinitialspace=True)\n",
    "# houseprice = pd.read_csv('./2023-08-12T22-19-20.986698Z/coreIndicator-housePriceGrowth.csv',sep=';',skipinitialspace=True)\n",
    "\n",
    "relation = pd.DataFrame(columns=['creditGrowth','housePriceGrowth'])\n",
    "\n",
    "with open('./2023-08-12T22-19-20.986698Z/coreIndicator-creditGrowth.csv', 'r') as file:\n",
    "    csvreader = csv.reader(file, delimiter=';')\n",
    "    for row in csvreader:\n",
    "        for i in range(3000, len(row)):\n",
    "            relation.loc[i-3000,'creditGrowth']=float(row[i])\n",
    "\n",
    "with open('./2023-08-12T22-19-20.986698Z/coreIndicator-housePriceGrowth.csv', 'r') as file:\n",
    "    csvreader = csv.reader(file, delimiter=';')\n",
    "    for row in csvreader:\n",
    "        for i in range(3000, len(row)):\n",
    "            relation.loc[i-3000,'housePriceGrowth']=float(row[i])\n",
    "\n",
    "relation"
   ]
  },
  {
   "cell_type": "code",
   "execution_count": 23,
   "id": "f6c5e9ee",
   "metadata": {},
   "outputs": [
    {
     "data": {
      "image/png": "[encoded data removed]",
      "text/plain": [
       "<Figure size 432x288 with 1 Axes>"
      ]
     },
     "metadata": {
      "needs_background": "light"
     },
     "output_type": "display_data"
    }
   ],
   "source": [
    "#fig, ax = plt.subplots()\n",
    "ax = relation.plot.scatter(x='creditGrowth', y='housePriceGrowth', \n",
    "                           xlabel='creditGrowth(%)',ylabel='housePriceGrowth(%)')\n",
    "\n"
   ]
  },
  {
   "cell_type": "code",
   "execution_count": null,
   "id": "b815a618",
   "metadata": {},
   "outputs": [],
   "source": []
  }
 ],
 "metadata": {
  "kernelspec": {
   "display_name": "Python 3 (ipykernel)",
   "language": "python",
   "name": "python3"
  },
  "language_info": {
   "codemirror_mode": {
    "name": "ipython",
    "version": 3
   },
   "file_extension": ".py",
   "mimetype": "text/x-python",
   "name": "python",
   "nbconvert_exporter": "python",
   "pygments_lexer": "ipython3",
   "version": "3.9.12"
  }
 },
 "nbformat": 4,
 "nbformat_minor": 5
}
